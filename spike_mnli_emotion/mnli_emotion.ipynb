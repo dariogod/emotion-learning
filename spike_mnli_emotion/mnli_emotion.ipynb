{
 "cells": [
  {
   "cell_type": "code",
   "execution_count": 5,
   "metadata": {},
   "outputs": [],
   "source": [
    "import json\n",
    "with open(\"data.json\", \"r\") as f:\n",
    "    data = json.load(f)"
   ]
  },
  {
   "cell_type": "code",
   "execution_count": 6,
   "metadata": {},
   "outputs": [],
   "source": [
    "from enum import Enum\n",
    "\n",
    "class MNLILabel(Enum):\n",
    "    ENTAILMENT = 0\n",
    "    NEUTRAL = 1 \n",
    "    CONTRADICTION = 2\n",
    "\n",
    "int_to_label = {key: value for key, value in enumerate(MNLILabel)}\n",
    "label_to_int = {value: key for key, value in int_to_label.items()}"
   ]
  },
  {
   "cell_type": "code",
   "execution_count": 7,
   "metadata": {},
   "outputs": [
    {
     "name": "stdout",
     "output_type": "stream",
     "text": [
      "Conceptually cream skimming has two basic dimensions - product and geography.\n",
      "Product and geography are what make cream skimming work.\n",
      "MNLILabel.NEUTRAL\n"
     ]
    }
   ],
   "source": [
    "for item in data:\n",
    "    print(item[\"premise\"])\n",
    "    print(item[\"hypothesis\"])\n",
    "    print(MNLILabel(item[\"label\"]))\n",
    "    break"
   ]
  },
  {
   "cell_type": "code",
   "execution_count": 12,
   "metadata": {},
   "outputs": [
    {
     "name": "stdout",
     "output_type": "stream",
     "text": [
      "TextBlock(citations=None, text='This relationship is NEUTRAL.\\n\\nThe premise states that cream skimming has two basic dimensions (product and geography), but it doesn\\'t explicitly state that these are what \"make cream skimming work.\" The hypothesis makes a stronger claim about these dimensions being the functional elements that enable cream skimming to work effectively.\\n\\nWhile the dimensions mentioned are the same in both statements, the premise is simply describing the conceptual structure, while the hypothesis makes a claim about functionality that isn\\'t supported or contradicted by the premise. We can\\'t determine from the premise alone whether these dimensions are what actually make cream skimming operational or effective.', type='text')\n"
     ]
    }
   ],
   "source": [
    "import anthropic\n",
    "from anthropic import Anthropic\n",
    "import os\n",
    "from dotenv import load_dotenv\n",
    "\n",
    "load_dotenv()\n",
    "\n",
    "client = Anthropic(api_key=os.getenv(\"ANTHROPIC_API_KEY\"))\n",
    "\n",
    "message = client.messages.create(\n",
    "    model=\"claude-3-5-sonnet-20241022\",\n",
    "    max_tokens=1024,\n",
    "    messages=[{\n",
    "        \"role\": \"user\",\n",
    "        \"content\": \"Here is a premise and hypothesis pair. Tell me if the relationship between them is entailment, neutral, or contradiction:\\n\\n\" + \n",
    "                  f\"Premise: {data[0]['premise']}\\n\" +\n",
    "                  f\"Hypothesis: {data[0]['hypothesis']}\"\n",
    "    }]\n",
    ")\n",
    "\n",
    "print(message.content[0])\n"
   ]
  },
  {
   "cell_type": "code",
   "execution_count": 16,
   "metadata": {},
   "outputs": [
    {
     "name": "stdout",
     "output_type": "stream",
     "text": [
      "This relationship is NEUTRAL.\n",
      "\n",
      "The premise states that cream skimming has two basic dimensions (product and geography), but it doesn't explicitly state that these are what \"make cream skimming work.\" The hypothesis makes a stronger claim about these dimensions being the functional elements that enable cream skimming to work effectively.\n",
      "\n",
      "While the dimensions mentioned are the same in both statements, the premise is simply describing the conceptual structure, while the hypothesis makes a claim about functionality that isn't supported or contradicted by the premise. We can't determine from the premise alone whether these dimensions are what actually make cream skimming operational or effective.\n"
     ]
    }
   ],
   "source": [
    "print(message.content[0].text)"
   ]
  },
  {
   "cell_type": "code",
   "execution_count": null,
   "metadata": {},
   "outputs": [],
   "source": []
  }
 ],
 "metadata": {
  "kernelspec": {
   "display_name": "Python 3",
   "language": "python",
   "name": "python3"
  },
  "language_info": {
   "codemirror_mode": {
    "name": "ipython",
    "version": 3
   },
   "file_extension": ".py",
   "mimetype": "text/x-python",
   "name": "python",
   "nbconvert_exporter": "python",
   "pygments_lexer": "ipython3",
   "version": "3.11.9"
  }
 },
 "nbformat": 4,
 "nbformat_minor": 2
}
