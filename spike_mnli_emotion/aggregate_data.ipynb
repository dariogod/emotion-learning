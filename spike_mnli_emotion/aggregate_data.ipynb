{
 "cells": [
  {
   "cell_type": "code",
   "execution_count": 21,
   "metadata": {},
   "outputs": [
    {
     "name": "stdout",
     "output_type": "stream",
     "text": [
      "1000\n"
     ]
    }
   ],
   "source": [
    "import json\n",
    "import os\n",
    "\n",
    "all_results = []\n",
    "for filename in os.listdir(\"augmented_data\"):\n",
    "    if \"batch\" in filename:\n",
    "        batch = json.load(open(f\"augmented_data/{filename}\"))\n",
    "        all_results.extend(batch)\n",
    "\n",
    "print(len(all_results))"
   ]
  },
  {
   "cell_type": "code",
   "execution_count": 22,
   "metadata": {},
   "outputs": [],
   "source": [
    "all_results = sorted(all_results, key=lambda x: x[\"idx\"])"
   ]
  },
  {
   "cell_type": "code",
   "execution_count": 23,
   "metadata": {},
   "outputs": [
    {
     "name": "stdout",
     "output_type": "stream",
     "text": [
      "Train set size: 800\n",
      "Test set size: 200\n"
     ]
    }
   ],
   "source": [
    "train_set = [item for item in all_results if item[\"idx\"] < 800]\n",
    "test_set = [item for item in all_results if item[\"idx\"] >= 800]\n",
    "\n",
    "print(f\"Train set size: {len(train_set)}\")\n",
    "print(f\"Test set size: {len(test_set)}\")"
   ]
  },
  {
   "cell_type": "code",
   "execution_count": 24,
   "metadata": {},
   "outputs": [],
   "source": [
    "with open(\"augmented_data/train_set.json\", \"w\") as f:\n",
    "    json.dump(train_set, f, indent=4)\n",
    "\n",
    "with open(\"augmented_data/test_set.json\", \"w\") as f:\n",
    "    json.dump(test_set, f, indent=4)"
   ]
  },
  {
   "cell_type": "code",
   "execution_count": 25,
   "metadata": {},
   "outputs": [
    {
     "name": "stdout",
     "output_type": "stream",
     "text": [
      "{\n",
      "    \"idx\": 0,\n",
      "    \"premise\": {\n",
      "        \"text\": \"Conceptually cream skimming has two basic dimensions - product and geography.\",\n",
      "        \"emotion_info\": {\n",
      "            \"arousal\": 0.2,\n",
      "            \"valence\": 0.5,\n",
      "            \"intensity\": 0.1\n",
      "        }\n",
      "    },\n",
      "    \"hypothesis\": {\n",
      "        \"text\": \"Product and geography are what make cream skimming work. \",\n",
      "        \"emotion_info\": {\n",
      "            \"arousal\": 0.3,\n",
      "            \"valence\": 0.6,\n",
      "            \"intensity\": 0.2\n",
      "        }\n",
      "    },\n",
      "    \"label\": 1\n",
      "}\n"
     ]
    }
   ],
   "source": [
    "for item in all_results[:1]:\n",
    "    print(json.dumps(item, indent=4))"
   ]
  },
  {
   "cell_type": "code",
   "execution_count": null,
   "metadata": {},
   "outputs": [],
   "source": []
  }
 ],
 "metadata": {
  "kernelspec": {
   "display_name": "Python 3",
   "language": "python",
   "name": "python3"
  },
  "language_info": {
   "codemirror_mode": {
    "name": "ipython",
    "version": 3
   },
   "file_extension": ".py",
   "mimetype": "text/x-python",
   "name": "python",
   "nbconvert_exporter": "python",
   "pygments_lexer": "ipython3",
   "version": "3.11.9"
  }
 },
 "nbformat": 4,
 "nbformat_minor": 2
}
